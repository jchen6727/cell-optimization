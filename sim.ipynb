{
 "cells": [
  {
   "cell_type": "code",
   "execution_count": 10,
   "id": "b8d9bdfc-cbfb-41c1-b701-013d494dbc00",
   "metadata": {},
   "outputs": [
    {
     "name": "stdout",
     "output_type": "stream",
     "text": [
      "\n",
      "There was an error in the process of creating nrnmech.dll\n"
     ]
    },
    {
     "name": "stderr",
     "output_type": "stream",
     "text": [
      "The syntax of the command is incorrect.\n",
      "ls: cannot access '*.[mM][oO][dD]': No such file or directory\n",
      "The system cannot find the path specified.\n"
     ]
    }
   ],
   "source": [
    "!nrnivmodl mods_manchanda/"
   ]
  },
  {
   "cell_type": "code",
   "execution_count": 11,
   "id": "a0a2d753-1b51-4c54-8598-3778946c7936",
   "metadata": {},
   "outputs": [
    {
     "name": "stdout",
     "output_type": "stream",
     "text": [
      "\n",
      "Start time:  2022-10-26 12:39:54.980557\n",
      "\n",
      "Creating network of 1 cell populations on 1 hosts...\n",
      "ERROR: Some mechanisms and/or ions were not inserted (for details run with cfg.verbose=True). Make sure the required mod files are compiled.\n",
      "  Number of cells on node 0: 1 \n",
      "  Done; cell creation time = 0.00 s.\n",
      "Making connections...\n",
      "  Number of connections on node 0: 0 \n",
      "  Done; cell connection time = 0.00 s.\n",
      "Adding stims...\n",
      "  Number of stims on node 0: 1 \n",
      "  Done; cell stims creation time = 0.00 s.\n",
      "Recording 1 traces of 1 types on node 0\n",
      "\tVector[5] \n",
      "\tVector[6] \n",
      "\n",
      "Running simulation using NEURON for 100.0 ms...\n",
      "  Done; run time = 0.00 s; real-time ratio: 50.09.\n",
      "\n",
      "Gathering data...\n",
      "  Done; gather time = 0.00 s.\n",
      "\n",
      "Analyzing...\n",
      "  Cells: 1\n",
      "  Connections: 0 (0.00 per cell)\n",
      "  Spikes: 1 (10.00 Hz)\n",
      "  Simulated time: 0.1 s; 1 workers\n",
      "  Run time: 0.00 s\n",
      "Saving output as data\\sim_data.pkl ... \n",
      "Finished saving!\n",
      "  Done; saving time = 0.03 s.\n",
      "Plotting recorded cell traces ... trace\n",
      "Saving figure data as data/sim_traces.pkl ... \n",
      "  Done; plotting time = 0.13 s\n",
      "\n",
      "Total time = 0.16 s\n"
     ]
    },
    {
     "name": "stderr",
     "output_type": "stream",
     "text": [
      "NEURON: table_tabhtau_CaN undefined function\n",
      " in tautables.hoc near line 8\n",
      " table_tabhtau_CaN(&vechtau_CaN.x[0], vecv2_CaN.size, &vecv2_CaN.x[0])\n",
      "                                                                      ^\n",
      "        table_tabhtau_CaN(..., 6, ...)\n",
      "      xopen(\"tautables.hoc\")\n",
      "    execute1(\"{xopen(\"ta...\")\n",
      "  load_file(\"tautables.hoc\")\n"
     ]
    }
   ],
   "source": [
    "!python init.py"
   ]
  },
  {
   "cell_type": "code",
   "execution_count": 12,
   "id": "ed6ec1ec-a7e3-409f-9d1f-c2c4da3464f8",
   "metadata": {},
   "outputs": [],
   "source": [
    "from netpyne import sim\n",
    "import numpy as np\n",
    "from cfg import cfg\n",
    "from netParams import netParams"
   ]
  },
  {
   "cell_type": "code",
   "execution_count": 13,
   "id": "eda93b7a-ca04-43cf-be92-e41713fa9404",
   "metadata": {},
   "outputs": [
    {
     "data": {
      "text/plain": [
       "1.0"
      ]
     },
     "execution_count": 13,
     "metadata": {},
     "output_type": "execute_result"
    }
   ],
   "source": [
    "sim.h.load_file('tautables.hoc')"
   ]
  },
  {
   "cell_type": "code",
   "execution_count": 14,
   "id": "2548790c-0914-4187-9fc2-5b2533a4da8d",
   "metadata": {},
   "outputs": [
    {
     "name": "stdout",
     "output_type": "stream",
     "text": [
      "\n",
      "Start time:  2022-10-26 12:39:55.405625\n",
      "\n",
      "Creating network of 1 cell populations on 1 hosts...\n",
      "  Number of cells on node 0: 1 \n",
      "  Done; cell creation time = 0.00 s.\n",
      "Making connections...\n",
      "  Number of connections on node 0: 0 \n",
      "  Done; cell connection time = 0.00 s.\n",
      "Adding stims...\n",
      "  Number of stims on node 0: 1 \n",
      "  Done; cell stims creation time = 0.00 s.\n",
      "Recording 1 traces of 1 types on node 0\n"
     ]
    }
   ],
   "source": [
    "sim.create(simConfig = cfg, netParams = netParams)"
   ]
  },
  {
   "cell_type": "code",
   "execution_count": 15,
   "id": "d46ce454-da76-4990-8056-6b4695802eac",
   "metadata": {},
   "outputs": [
    {
     "name": "stdout",
     "output_type": "stream",
     "text": [
      "\n",
      "Running simulation using NEURON for 100.0 ms...\n",
      "  Done; run time = 0.13 s; real-time ratio: 0.79.\n",
      "\n",
      "Gathering data...\n",
      "  Done; gather time = 0.00 s.\n",
      "\n",
      "Analyzing...\n",
      "  Cells: 1\n",
      "  Connections: 0 (0.00 per cell)\n",
      "  Spikes: 1 (10.00 Hz)\n",
      "  Simulated time: 0.1 s; 1 workers\n",
      "  Run time: 0.13 s\n"
     ]
    }
   ],
   "source": [
    "sim.simulate()"
   ]
  },
  {
   "cell_type": "code",
   "execution_count": 18,
   "id": "04b790a2-9d6d-448e-960f-c150bce4edfe",
   "metadata": {},
   "outputs": [
    {
     "data": {
      "text/plain": "{spkt: Vector[20], spkid: Vector[21], v_drg: {cell_0: Vector[23]}, t: Vector[24], _repr_mimebundle_: {}}"
     },
     "execution_count": 18,
     "metadata": {},
     "output_type": "execute_result"
    }
   ],
   "source": [
    "svt = sim.simData\n",
    "svt"
   ]
  },
  {
   "cell_type": "code",
   "execution_count": 16,
   "id": "fe79ec3b-dfdc-4906-a637-f602680975a4",
   "metadata": {},
   "outputs": [],
   "source": [
    " "
   ]
  }
 ],
 "metadata": {
  "kernelspec": {
   "display_name": "Python 3 (ipykernel)",
   "language": "python",
   "name": "python3"
  },
  "language_info": {
   "codemirror_mode": {
    "name": "ipython",
    "version": 3
   },
   "file_extension": ".py",
   "mimetype": "text/x-python",
   "name": "python",
   "nbconvert_exporter": "python",
   "pygments_lexer": "ipython3",
   "version": "3.9.12"
  }
 },
 "nbformat": 4,
 "nbformat_minor": 5
}
